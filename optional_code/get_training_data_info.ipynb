{
 "cells": [
  {
   "cell_type": "code",
   "execution_count": null,
   "metadata": {},
   "outputs": [],
   "source": [
    "def get_minmax_dict(df, nouse_cols= []):\n",
    "    \"\"\"\n",
    "    Get dictionary of numeric columns' category\n",
    "    Arg:\n",
    "        df : pd.Dataframe\n",
    "        nouse_cols: list\n",
    "            list of numeric columns that don't need to be listed, for example data or id\n",
    "    Return:\n",
    "        dict: all numeric columns' min max value\n",
    "    \"\"\"\n",
    "    min_max_dict = dict()\n",
    "    num_cols = [\n",
    "        i for i in df.columns if (i not in nouse_cols) and ((df[i].dtypes == 'int64') or (\n",
    "            df[i].dtypes == 'float'))\n",
    "    ]\n",
    "    for col in num_cols:\n",
    "        min_max_dict[col] = [df[col].min(), df[col].max()]\n",
    "    return min_max_dict"
   ]
  },
  {
   "cell_type": "code",
   "execution_count": null,
   "metadata": {},
   "outputs": [],
   "source": [
    "def get_cat_dict(df: pd.DataFrame, nouse_cols= [], is_cat_cols= []) -> pd.Series:\n",
    "    \"\"\"\n",
    "    Get dictionary of categorical columns' category\n",
    "    Arg:\n",
    "        df : pd.Dataframe\n",
    "        nouse_cols: list\n",
    "            list of categorical columns that don't need to  be listed, for example data or id\n",
    "        is_cat_cols: list\n",
    "            list of columns that are categorical columns but not object type\n",
    "    Return:\n",
    "        dict: all categorical columns' category\n",
    "    Note:\n",
    "        columns in is_cat_cols won't transfer to string type in this function\n",
    "    \"\"\"\n",
    "    cat_dict = {}\n",
    "    string_cols = [\n",
    "        i for i in df.columns\n",
    "        if ((df[i].dtypes == 'object') and (i not in nouse_cols)) or (i in is_cat_cols)]\n",
    "    for col in string_cols:\n",
    "        cat_dict[col] = [sorted(list(train[col].value_counts().index))]\n",
    "    return cat_dict"
   ]
  }
 ],
 "metadata": {
  "kernelspec": {
   "display_name": "Python 3",
   "language": "python",
   "name": "python3"
  },
  "language_info": {
   "codemirror_mode": {
    "name": "ipython",
    "version": 3
   },
   "file_extension": ".py",
   "mimetype": "text/x-python",
   "name": "python",
   "nbconvert_exporter": "python",
   "pygments_lexer": "ipython3",
   "version": "3.7.6"
  },
  "varInspector": {
   "cols": {
    "lenName": 16,
    "lenType": 16,
    "lenVar": 40
   },
   "kernels_config": {
    "python": {
     "delete_cmd_postfix": "",
     "delete_cmd_prefix": "del ",
     "library": "var_list.py",
     "varRefreshCmd": "print(var_dic_list())"
    },
    "r": {
     "delete_cmd_postfix": ") ",
     "delete_cmd_prefix": "rm(",
     "library": "var_list.r",
     "varRefreshCmd": "cat(var_dic_list()) "
    }
   },
   "types_to_exclude": [
    "module",
    "function",
    "builtin_function_or_method",
    "instance",
    "_Feature"
   ],
   "window_display": false
  }
 },
 "nbformat": 4,
 "nbformat_minor": 4
}
